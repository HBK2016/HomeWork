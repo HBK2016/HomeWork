{
 "cells": [
  {
   "cell_type": "markdown",
   "metadata": {},
   "source": [
    "**Задача 1**. Дано слово из латинских букв. Напишите скрипт, который выводит на экран букву из середины слова (если число букв нечетное). Если букв четное число, то на экран выводятся две буквы из середины.  \n",
    "\n",
    "Пример: для 'test' должно выводится 'es', для 'testing' - 't'"
   ]
  },
  {
   "cell_type": "code",
   "execution_count": 33,
   "metadata": {},
   "outputs": [
    {
     "name": "stdout",
     "output_type": "stream",
     "text": [
      "Введите слово на латинском: denis\n",
      "n\n"
     ]
    }
   ],
   "source": [
    "word = str(input(\"Введите слово на латинском: \"))\n",
    "if len(word) % 2 ==1:\n",
    "    word_len = int(len(word)) \n",
    "    word_middle = int(word_len/2)\n",
    "    print(word[word_middle])\n",
    "else:\n",
    "    word_len = int(len(word)+1)\n",
    "    word_middle = int(word_len/2)\n",
    "    first_symbol = int(word_middle-1)\n",
    "    second_symbol = int(word_middle+1)\n",
    "    print(word[first_symbol:second_symbol])"
   ]
  },
  {
   "cell_type": "markdown",
   "metadata": {},
   "source": [
    "**Задача 2**. Мы делаем MVP dating-сервиса, и у нас есть список парней и девушек (их число может варьироваться):"
   ]
  },
  {
   "cell_type": "code",
   "execution_count": 9,
   "metadata": {},
   "outputs": [],
   "source": [
    "boys = ['Peter', 'Alex', 'John', 'Arthur', 'Richard']\n",
    "girls = ['Kate', 'Liza', 'Kira', 'Emma', 'Trisha']"
   ]
  },
  {
   "cell_type": "markdown",
   "metadata": {},
   "source": [
    "Выдвигаем гипотезу: лучшие рекомендации мы получим, если просто отсортируем имена по алфавиту и познакомим людей с одинаковыми индексами после сортировки! \"Познакомить\" пары нам поможет функция zip, а в цикле распакуем zip-объект и выведем информацию в виде:\n",
    "\n",
    "Идеальные пары:  \n",
    "Alex и Emma  \n",
    "Arthur и Kate  \n",
    "John и Kira  \n",
    "Peter и Liza  \n",
    "Richard и Trisha  "
   ]
  },
  {
   "cell_type": "markdown",
   "metadata": {},
   "source": [
    "**Внимание! Если количество людей в списках будет не совпадать, то мы никого знакомить не будет и выведем пользователю предупреждение, что кто-то может остаться без пары!**"
   ]
  },
  {
   "cell_type": "code",
   "execution_count": 1,
   "metadata": {},
   "outputs": [
    {
     "name": "stdout",
     "output_type": "stream",
     "text": [
      "Введите имена мужского пола: Denis Alex Shawn\n",
      "Введите имена женского пола: Kate Anna Torry\n",
      "Идельные пары:\n",
      "Alex и Anna\n",
      "Denis и Kate\n",
      "Shawn и Torry\n"
     ]
    }
   ],
   "source": [
    "boys = input(\"Введите имена мужского пола: \")\n",
    "boys_list = boys.split(' ')\n",
    "boys_list.sort()\n",
    "# boys_set = set(boys_list)\n",
    "girls = input(\"Введите имена женского пола: \")\n",
    "girls_list = girls.split(' ')\n",
    "girls_list.sort()\n",
    "# girls_set = set(girls_list)\n",
    "couples = zip(boys_list, girls_list)\n",
    "if len(boys_list)==len(girls_list):\n",
    "#     print(list(couples))\n",
    "    print(\"Идельные пары:\")\n",
    "    for name in couples:\n",
    "        print(f'{name[0]} и {name[1]}')\n",
    "else:\n",
    "    print(\"Внимание! Кто-то останется без пары, не совпадает количество человек между мужчинами и женщинами.\")\n",
    "\n"
   ]
  },
  {
   "cell_type": "markdown",
   "metadata": {},
   "source": [
    "**Задача 3**. У нас есть список, содержащий информацию о среднедневной температуре в Фаренгейтах за недельный период по странам.\n",
    "Необходимо написать код, который рассчитает среднюю температуру за неделю в Цельсиях для каждой страны."
   ]
  },
  {
   "cell_type": "code",
   "execution_count": 14,
   "metadata": {},
   "outputs": [
    {
     "name": "stdout",
     "output_type": "stream",
     "text": [
      "Средние температуры за неделю по странам:\n",
      "- Thailand составляет 74.94 градусов по Фаренгейту\n",
      "- Germany составляет 56.69 градусов по Фаренгейту\n",
      "- Russia составляет 38.69 градусов по Фаренгейту\n",
      "- Poland составляет 53.34 градусов по Фаренгейту\n"
     ]
    }
   ],
   "source": [
    "countries_temperature = [\n",
    " ['Thailand', [75.2, 77, 78.8, 73.4, 68, 75.2, 77]],\n",
    " ['Germany', [57.2, 55.4, 59, 59, 53.6, 55.4, 57.2]],\n",
    " ['Russia', [35.6, 37.4, 39.2, 41, 42.8, 39.2, 35.6]],\n",
    " ['Poland', [50, 50, 53.6, 57.2, 55.4, 55.4, 51.8]],\n",
    "]\n",
    "print(\"Средние температуры за неделю по странам:\")\n",
    "for country in countries_temperature:\n",
    "    print(f\"- {country[0]} составляет {float('{:.2f}'.format(sum(country[1])/len(country[1])))} градусов по Фаренгейту\")"
   ]
  },
  {
   "cell_type": "markdown",
   "metadata": {},
   "source": [
    "**Задача 4.** Дан поток логов по количеству просмотренных страниц для каждого пользователя. Список отсортирован по ID пользователя. Вам необходимо написать алгоритм, который считает среднее значение просмотров на пользователя. \n",
    "Т. е. надо посчитать отношение суммы всех просмотров к количеству уникальных пользователей."
   ]
  },
  {
   "cell_type": "code",
   "execution_count": 78,
   "metadata": {},
   "outputs": [
    {
     "name": "stdout",
     "output_type": "stream",
     "text": [
      "Средние показатели просмотров:\n",
      "- пользователь с логином user1 составляет 5.25\n",
      "- пользователь с логином user2 составляет 7.0\n",
      "- пользователь с логином user3 составляет 7.0\n",
      "- пользователь с логином user4 составляет 10.2\n",
      "- пользователь с логином user5 составляет 5.5\n"
     ]
    }
   ],
   "source": [
    "stream = [\n",
    "    '2018-01-01,user1,3',\n",
    "    '2018-01-07,user1,4',\n",
    "    '2018-03-29,user1,1',\n",
    "    '2018-04-04,user1,13',\n",
    "    '2018-01-05,user2,7',\n",
    "    '2018-06-14,user3,4',\n",
    "    '2018-07-02,user3,10',\n",
    "    '2018-03-21,user4,19',\n",
    "    '2018-03-22,user4,4',\n",
    "    '2018-04-22,user4,8',\n",
    "    '2018-05-03,user4,9',\n",
    "    '2018-05-11,user4,11',\n",
    "    '2018-05-11,user5,1',\n",
    "    '2018-05-11,user5,10'    \n",
    "]\n",
    "\n",
    "new_list = []\n",
    "\n",
    "x_list = []\n",
    "\n",
    "n_list = {}\n",
    "\n",
    "for x in stream:\n",
    "    x = (x.split(','))\n",
    "    new_list.append(x)\n",
    "    x[2] = int(x[2])\n",
    "  \n",
    "    \n",
    "for a in new_list:\n",
    "    del(a[0])\n",
    "    \n",
    "for b in new_list:\n",
    "    for c in b:\n",
    "        x_list.append(c)\n",
    "        \n",
    "for us, quan in new_list:\n",
    "    if us not in n_list:\n",
    "        n_list[us] = quan\n",
    "    else:\n",
    "        n_list[us] = n_list[us] + quan\n",
    "   \n",
    "average_user = 0\n",
    "count_user = 0\n",
    "\n",
    "print(\"Средние показатели просмотров:\")\n",
    "\n",
    "for key, item in n_list.items():\n",
    "    count_user = x_list.count(key)\n",
    "    average_user = item/count_user   \n",
    "    \n",
    "    print(f'- пользователь с логином {key} составляет {average_user}')  \n"
   ]
  },
  {
   "cell_type": "markdown",
   "metadata": {},
   "source": [
    "**Задача 5**. Дана статистика рекламных кампаний по дням. Напишите алгоритм, который по паре дата-кампания ищет значение численного столбца. \n",
    "Т. е. для даты '2018-01-01' и 'google' нужно получить число 25. \n",
    "Считайте, что все комбинации дата-кампания уникальны."
   ]
  },
  {
   "cell_type": "code",
   "execution_count": 3,
   "metadata": {},
   "outputs": [
    {
     "name": "stdout",
     "output_type": "stream",
     "text": [
      "Введите дату из списка в таком же формате2018-01-02\n",
      "Введите название компании указанного в спискеmarket\n",
      "На дату 2018-01-02 компания market провела 994 рекламных компаний\n"
     ]
    }
   ],
   "source": [
    "stats = [\n",
    "    ['2018-01-01', 'google', 25],\n",
    "    ['2018-01-01', 'yandex', 65],\n",
    "    ['2018-01-01', 'market', 89],\n",
    "    ['2018-01-02', 'google', 574],\n",
    "    ['2018-01-02', 'yandex', 249],\n",
    "    ['2018-01-02', 'market', 994],\n",
    "    ['2018-01-03', 'google', 1843],\n",
    "    ['2018-01-03', 'yandex', 1327],\n",
    "    ['2018-01-03', 'market', 1764],\n",
    "]\n",
    "\n",
    "advertising = 0\n",
    "\n",
    "data = input('Введите дату из списка в таком же формате ')\n",
    "company = input('Введите название компании указанного в списке ')\n",
    "\n",
    "for el in stats:\n",
    "    if data == el[0] and company == el[1]:\n",
    "        advertising = el[2]\n",
    "        \n",
    "        \n",
    "print(f\"На дату {data} компания {company} провела {advertising} рекламных компаний\")\n",
    "\n",
    "\n"
   ]
  },
  {
   "cell_type": "markdown",
   "metadata": {},
   "source": [
    "**Задача 6**. Дан список вида:"
   ]
  },
  {
   "cell_type": "code",
   "execution_count": 15,
   "metadata": {},
   "outputs": [],
   "source": [
    "data = [\n",
    "    [13, 25, 23, 34],\n",
    "    [45, 32, 44, 47],\n",
    "    [12, 33, 23, 95],\n",
    "    [13, 53, 34, 35]\n",
    "]"
   ]
  },
  {
   "cell_type": "markdown",
   "metadata": {},
   "source": [
    "Напишите код, который будет вычислять сумму элементов на диагонали. Т. е. 13+32+23+35.  \n",
    "Список может быть любой длины, но всегда является \"квадратным\" (количество элементов во вложенных списках равно их количеству)."
   ]
  },
  {
   "cell_type": "code",
   "execution_count": 24,
   "metadata": {},
   "outputs": [
    {
     "name": "stdout",
     "output_type": "stream",
     "text": [
      "count1: 103 count2: 124\n"
     ]
    }
   ],
   "source": [
    "s1 = 0\n",
    "l1 = 0\n",
    "s2 = 0\n",
    "l2 = k- 1\n",
    "count1 = 0\n",
    "count2 = 0\n",
    "\n",
    "for el1 in data:\n",
    "    count1 += data[s1][l1]\n",
    "    s1 +=1\n",
    "    l1 +=1\n",
    "for el2 in data:\n",
    "    k = len(el2)\n",
    "    count2 += data[s2][l2]\n",
    "    s2 +=1\n",
    "    l2 -=1\n",
    "        \n",
    "print(f\"count1: {count1} count2: {count2}\")"
   ]
  },
  {
   "cell_type": "code",
   "execution_count": 26,
   "metadata": {},
   "outputs": [
    {
     "name": "stdout",
     "output_type": "stream",
     "text": [
      "3 4 3\n",
      "1 2 3\n",
      "4 2 1\n",
      "count1: 6 count2: 9\n"
     ]
    }
   ],
   "source": [
    "data1 = []\n",
    "data_input1 = list(map(int, input().split(' ')))\n",
    "data1.append(data_input1)\n",
    "   \n",
    "for element in data1:\n",
    "    data_input1 = list(map(int, input().split(' ')))\n",
    "    data1.append(data_input1)\n",
    "    \n",
    "    if len(data1) == len(data_input1):\n",
    "        break\n",
    "        \n",
    "a1 = 0\n",
    "a2 = 0\n",
    "b1 = 0\n",
    "b2 = z - 1\n",
    "\n",
    "\n",
    "count3 = 0\n",
    "count4 = 0\n",
    "\n",
    "for elem1 in data1:\n",
    "    count3 += data1[a1][a2]\n",
    "    a1 +=1\n",
    "    a2 +=1\n",
    "for elem2 in data1:\n",
    "    z = len(elem2)\n",
    "    count4 += data1[b1][b2]\n",
    "    b1 +=1\n",
    "    b2 -=1\n",
    "        \n",
    "print(f\"count1: {count3} count2: {count4}\")"
   ]
  },
  {
   "cell_type": "code",
   "execution_count": null,
   "metadata": {},
   "outputs": [],
   "source": []
  }
 ],
 "metadata": {
  "kernelspec": {
   "display_name": "Python 3",
   "language": "python",
   "name": "python3"
  },
  "language_info": {
   "codemirror_mode": {
    "name": "ipython",
    "version": 3
   },
   "file_extension": ".py",
   "mimetype": "text/x-python",
   "name": "python",
   "nbconvert_exporter": "python",
   "pygments_lexer": "ipython3",
   "version": "3.7.6"
  }
 },
 "nbformat": 4,
 "nbformat_minor": 2
}
