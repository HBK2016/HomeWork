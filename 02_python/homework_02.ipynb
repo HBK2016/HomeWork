{
 "cells": [
  {
   "cell_type": "markdown",
   "metadata": {},
   "source": [
    "Задание 1. Даны 2 строки: long_phrase и short_phrase. Напишите код, который проверяет действительно ли \n",
    "длинная фраза long_phrase длиннее короткой short_phrase. И выводит True или False в зависимости от \n",
    "результата сравнения."
   ]
  },
  {
   "cell_type": "code",
   "execution_count": 1,
   "metadata": {},
   "outputs": [
    {
     "data": {
      "text/plain": [
       "True"
      ]
     },
     "execution_count": 1,
     "metadata": {},
     "output_type": "execute_result"
    }
   ],
   "source": [
    "long_phrase = 'Насколько проще было бы писать программы, если бы не заказчики'\n",
    "short_phrase = '640Кб должно хватить для любых задач. Билл Гейтс (по легенде)'\n",
    "len(long_phrase) > len(short_phrase)"
   ]
  },
  {
   "cell_type": "markdown",
   "metadata": {},
   "source": [
    "Задание 2. Дано значение объема файла в байтах (в мегабайте 2^20 байт). Напишите перевод этого значения в мегабайты в формате: \"Объем файла равен 213.68Mb\"."
   ]
  },
  {
   "cell_type": "code",
   "execution_count": 2,
   "metadata": {},
   "outputs": [
    {
     "name": "stdout",
     "output_type": "stream",
     "text": [
      "Введите размер файла в байтах 1048576\n",
      "Объем файла равен 1.0Mb\n"
     ]
    }
   ],
   "source": [
    "volume_byte = int(input(\"Введите размер файла в байтах \"))\n",
    "volume_byte_in_mbyte = 2**20\n",
    "volume_mbyte = volume_byte_in_mbyte/volume_byte\n",
    "print(f\"Объем файла равен {volume_mbyte}Mb\")"
   ]
  },
  {
   "cell_type": "markdown",
   "metadata": {},
   "source": [
    "Задание 3. Разработать приложение для определения знака зодиака по дате рождения. Пример:\n",
    "\n",
    "Введите месяц: март\n",
    "\n",
    "Введите число: 6\n",
    "\n",
    "Вывод: Рыбы"
   ]
  },
  {
   "cell_type": "code",
   "execution_count": 3,
   "metadata": {},
   "outputs": [
    {
     "name": "stdout",
     "output_type": "stream",
     "text": [
      "Введите месяц: август\n",
      "Введите число: 19\n",
      "Ваш знак зодиака: Лев\n"
     ]
    }
   ],
   "source": [
    "month = input(\"Введите месяц: \")\n",
    "day = int(input(\"Введите число: \"))\n",
    "if (21 <= day <= 31 and month == \"март\") or (1 <= day <= 20 and month == \"апрель\"):\n",
    "    print(\"Ваш знак зодиака: Овен\")\n",
    "elif (21 <= day <= 30 and month == \"апрель\") or (1 <= day <= 21 and month == \"май\"):\n",
    "    print(\"Ваш знак зодиака: Телец\")\n",
    "elif (22 <= day <= 31 and month == \"май\") or (1 <= day <= 21 and month == \"июнь\"):\n",
    "    print(\"Ваш знак зодиака: Близнецы\")\n",
    "elif (22 <= day <= 30 and month == \"июнь\") or (1 <= day <= 22 and month == \"июль\"):\n",
    "    print(\"Ваш знак зодиака: Рак\")\n",
    "elif (23 <= day <= 31 and month == \"июль\") or (1 <= day <= 23 and month == \"август\"):\n",
    "    print(\"Ваш знак зодиака: Лев\")\n",
    "elif (24 <= day <= 31 and month == \"август\") or (1 <= day <= 23 and month == \"сентябрь\"):\n",
    "    print(\"Ваш знак зодиака: Дева\")\n",
    "elif (24 <= day <= 30 and month == \"сентябрь\") or (1 <= day <= 23 and month == \"октябрь\"):\n",
    "    print(\"Ваш знак зодиака: Весы\")\n",
    "elif (24 <= day <= 31 and month == \"октябрь\") or (1 <= day <= 22 and month == \"ноябрь\"):\n",
    "    print(\"Ваш знак зодиака: Скорпион\")\n",
    "elif (23 <= day <= 30 and month == \"ноябрь\") or (1 <= day <= 21 and month == \"декабрь\"):\n",
    "    print(\"Ваш знак зодиака: Стрелец\")\n",
    "elif (22 <= day <= 31 and month == \"декабрь\") or (1 <= day <= 20 and month == \"январь\"):\n",
    "    print(\"Ваш знак зодиака: Козерог\")\n",
    "elif (21 <= day <= 31 and month == \"январь\") or (1 <= day <= 18 and month == \"февраль\"):\n",
    "    print(\"Ваш знак зодиака: Водолей\")\n",
    "elif (19 <= day <= 29 and month == \"февраль\") or (1 <= day <= 20 and month == \"март\"):\n",
    "    print(\"Ваш знак зодиака: Рыбы\")\n",
    "else:\n",
    "    print(\"Некорректно введены данные, пожалуйста повторите ввод\")\n",
    "  "
   ]
  },
  {
   "cell_type": "markdown",
   "metadata": {},
   "source": [
    "\n",
    "\n",
    "Задание 4. Нужно разработать приложение для финансового планирования. Приложение учитывает сколько уходит на ипотеку, \"на жизнь\" и сколько нужно отложить на пенсию. Пользователь вводит:\n",
    "\n",
    "    заработанную плату в месяц.\n",
    "    сколько процентов от ЗП уходит на ипотеку.\n",
    "    сколько процентов от ЗП уходит \"на жизнь\".\n",
    "    сколько раз приходит премия в год.\n",
    "\n",
    "Остальная часть заработанной платы откладывается на пенсию.\n",
    "\n",
    "Также пользователю приходит премия в размере зарплаты, от которой половина уходит на отпуск, а вторая половина откладывается.\n",
    "\n",
    "Программа должна учитывать сколько премий было в год.\n",
    "\n",
    "Нужно вывести сколько денег тратит пользователь на ипотеку и сколько он накопит за год.\n"
   ]
  },
  {
   "cell_type": "code",
   "execution_count": 4,
   "metadata": {},
   "outputs": [
    {
     "name": "stdout",
     "output_type": "stream",
     "text": [
      "Введите зарплату в месяц: 60000\n",
      "Введите сколько процентов уходит на ипотеку: 20\n",
      "Введите сколько процентов уходит на жизнь: 10\n",
      "Введите количество премий за год: 2\n",
      "На ипотеку было потрачено: 144000.0 рублей Было накоплено: 648000.0 рублей\n"
     ]
    }
   ],
   "source": [
    "salary = int(input(\"Введите зарплату в месяц: \"))\n",
    "credit = int(input(\"Введите сколько процентов уходит на ипотеку: \"))\n",
    "for_life = int(input(\"Введите сколько процентов уходит на жизнь: \"))\n",
    "prize = int(input(\"Введите количество премий за год: \"))\n",
    "salary_year = salary * 12\n",
    "sum_credit = salary_year * (credit / 100)\n",
    "sum_life = salary_year * (for_life / 100)\n",
    "sum_prize = prize * salary * 1 / 2\n",
    "accumulation = salary_year + sum_prize - sum_life - sum_prize\n",
    "\n",
    "print(f\"На ипотеку было потрачено: {sum_credit} рублей Было накоплено: {accumulation} рублей\")\n"
   ]
  },
  {
   "cell_type": "code",
   "execution_count": null,
   "metadata": {},
   "outputs": [],
   "source": []
  }
 ],
 "metadata": {
  "kernelspec": {
   "display_name": "Python 3",
   "language": "python",
   "name": "python3"
  },
  "language_info": {
   "codemirror_mode": {
    "name": "ipython",
    "version": 3
   },
   "file_extension": ".py",
   "mimetype": "text/x-python",
   "name": "python",
   "nbconvert_exporter": "python",
   "pygments_lexer": "ipython3",
   "version": "3.7.6"
  }
 },
 "nbformat": 4,
 "nbformat_minor": 4
}
