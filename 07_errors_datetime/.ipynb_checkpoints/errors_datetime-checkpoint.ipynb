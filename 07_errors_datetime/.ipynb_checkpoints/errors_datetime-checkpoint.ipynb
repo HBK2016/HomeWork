{
 "cells": [
  {
   "cell_type": "markdown",
   "metadata": {},
   "source": [
    "Задание 1\n",
    "Печатные газеты использовали свой формат дат для каждого выпуска. Для каждой газеты из списка напишите формат указанной даты для перевода в объект datetime:\n",
    "The Moscow Times - Wednesday, October 2, 2002\n",
    "The Guardian - Friday, 11.10.13\n",
    "Daily News - Thursday, 18 August 1977"
   ]
  },
  {
   "cell_type": "code",
   "execution_count": 15,
   "metadata": {},
   "outputs": [
    {
     "name": "stdout",
     "output_type": "stream",
     "text": [
      "2002-10-02\n",
      "2013-10-11\n",
      "1977-08-18\n"
     ]
    }
   ],
   "source": [
    "from datetime import datetime\n",
    "\n",
    "moscow_times = datetime.strptime('Wednesday, October 2, 2002', '%A, %B %d, %Y')\n",
    "\n",
    "guardian = datetime.strptime('Friday, 11.10.13', '%A, %d.%m.%y')\n",
    "daily_News = datetime.strptime('Thursday, 18 August 1977', '%A, %d %B %Y')\n",
    "\n",
    "print(moscow_times.date())\n",
    "print(guardian.date())\n",
    "print(daily_News.date())"
   ]
  },
  {
   "cell_type": "markdown",
   "metadata": {},
   "source": [
    "Дан поток дат в формате YYYY-MM-DD, в которых встречаются некорректные значения:\n",
    "stream = [‘2018-04-02’, ‘2018-02-29’, ‘2018-19-02’]\n",
    "\n",
    "Напишите функцию, которая проверяет эти даты на корректность. Т. е. для каждой даты возвращает True (дата корректна) или False (некорректная дата)."
   ]
  },
  {
   "cell_type": "code",
   "execution_count": 31,
   "metadata": {},
   "outputs": [
    {
     "data": {
      "text/plain": [
       "['True', 'False', 'False']"
      ]
     },
     "execution_count": 31,
     "metadata": {},
     "output_type": "execute_result"
    }
   ],
   "source": [
    "# stream = ['2018-04-02', '2018-02-29', '2018-19-02']\n",
    "\n",
    "def date_format():\n",
    "    stream = ['2018-04-02', '2018-02-29', '2018-19-02'] #можно инпут сделать\n",
    "    true_false = []\n",
    "    for date in stream:\n",
    "        try:\n",
    "            datetime.strptime(date, '%Y-%m-%d')\n",
    "            true_false.append(\"True\")\n",
    "        except:\n",
    "            true_false.append(\"False\")\n",
    "    return true_false\n",
    "    \n",
    "date_format()"
   ]
  },
  {
   "cell_type": "markdown",
   "metadata": {},
   "source": [
    "Задание 3\n",
    "Напишите функцию date_range, которая возвращает список дат за период от start_date до end_date. Даты должны вводиться в формате YYYY-MM-DD. В случае неверного формата или при start_date > end_date должен возвращаться пустой список."
   ]
  },
  {
   "cell_type": "code",
   "execution_count": 25,
   "metadata": {},
   "outputs": [
    {
     "name": "stdout",
     "output_type": "stream",
     "text": [
      "Введите дату начала в формате 'YYYY-MM-DD': 2020-01-01\n",
      "Введите дату конца в формате 'YYYY-MM-DD': 2020-01-01\n"
     ]
    },
    {
     "data": {
      "text/plain": [
       "['2020-01-01']"
      ]
     },
     "execution_count": 25,
     "metadata": {},
     "output_type": "execute_result"
    }
   ],
   "source": [
    "from datetime import timedelta\n",
    "\n",
    "def date_range():\n",
    "      \n",
    "    start_date = str(input(\"Введите дату начала в формате 'YYYY-MM-DD': \"))\n",
    "    end_date = str(input(\"Введите дату конца в формате 'YYYY-MM-DD': \"))\n",
    "    date_st_end = []\n",
    "    datestr = \"\"\n",
    "\n",
    "    try:\n",
    "        start = datetime.strptime(start_date, '%Y-%m-%d')\n",
    "        end = datetime.strptime(end_date, '%Y-%m-%d')\n",
    "             \n",
    "        while start <= end:\n",
    "            datestr = start.strftime('%Y-%m-%d')\n",
    "            date_st_end.append(datestr)\n",
    "            start += timedelta(days=1)\n",
    "                      \n",
    "        return date_st_end\n",
    "    except:\n",
    "        return date_st_end\n",
    "    \n",
    "date_range()"
   ]
  },
  {
   "cell_type": "markdown",
   "metadata": {},
   "source": [
    "Задание 4 (бонусное)\n",
    "Ваш коллега прислал код функции:\n",
    "\n",
    "DEFAULT_USER_COUNT = 3\n",
    "\n",
    "def delete_and_return_last_user(region, default_list=[‘A100’, ‘A101’, ‘A102’]):\n",
    "\"\"“\n",
    "Удаляет из списка default_list последнего пользователя\n",
    "и возвращает ID нового последнего пользователя.\n",
    "”\"\"\n",
    "element_to_delete = default_list[-1]\n",
    "default_list.remove(element_to_delete)\n",
    "\n",
    "return default_list[DEFAULT_USER_COUNT-2]\n",
    "\n",
    "При однократном вызове этой функции все работает корректно:\n",
    "delete_and_return_last_user(1)\n",
    "‘A101’\n",
    "\n",
    "Однако, при повторном вызове получается ошибка IndexError: list index out of range.\n",
    "\n",
    "Задание:\n",
    "\n",
    "    Что значит ошибка list index out of range?\n",
    "    Почему при первом запуске функция работает корректно, а при втором - нет?\n"
   ]
  },
  {
   "cell_type": "code",
   "execution_count": 32,
   "metadata": {},
   "outputs": [
    {
     "ename": "IndexError",
     "evalue": "list index out of range",
     "output_type": "error",
     "traceback": [
      "\u001b[0;31m---------------------------------------------------------------------------\u001b[0m",
      "\u001b[0;31mIndexError\u001b[0m                                Traceback (most recent call last)",
      "\u001b[0;32m<ipython-input-32-2700191ca07d>\u001b[0m in \u001b[0;36m<module>\u001b[0;34m\u001b[0m\n\u001b[1;32m      9\u001b[0m \u001b[0;34m\u001b[0m\u001b[0m\n\u001b[1;32m     10\u001b[0m \u001b[0mdelete_and_return_last_user\u001b[0m\u001b[0;34m(\u001b[0m\u001b[0;34m)\u001b[0m\u001b[0;34m\u001b[0m\u001b[0;34m\u001b[0m\u001b[0m\n\u001b[0;32m---> 11\u001b[0;31m \u001b[0mdelete_and_return_last_user\u001b[0m\u001b[0;34m(\u001b[0m\u001b[0;34m)\u001b[0m\u001b[0;34m\u001b[0m\u001b[0;34m\u001b[0m\u001b[0m\n\u001b[0m",
      "\u001b[0;32m<ipython-input-32-2700191ca07d>\u001b[0m in \u001b[0;36mdelete_and_return_last_user\u001b[0;34m()\u001b[0m\n\u001b[1;32m      6\u001b[0m     \u001b[0melement_to_delete\u001b[0m \u001b[0;34m=\u001b[0m \u001b[0mdefault_list\u001b[0m\u001b[0;34m[\u001b[0m\u001b[0;34m-\u001b[0m\u001b[0;36m1\u001b[0m\u001b[0;34m]\u001b[0m\u001b[0;34m\u001b[0m\u001b[0;34m\u001b[0m\u001b[0m\n\u001b[1;32m      7\u001b[0m     \u001b[0mdefault_list\u001b[0m\u001b[0;34m.\u001b[0m\u001b[0mremove\u001b[0m\u001b[0;34m(\u001b[0m\u001b[0melement_to_delete\u001b[0m\u001b[0;34m)\u001b[0m\u001b[0;34m\u001b[0m\u001b[0;34m\u001b[0m\u001b[0m\n\u001b[0;32m----> 8\u001b[0;31m     \u001b[0;32mreturn\u001b[0m \u001b[0mdefault_list\u001b[0m\u001b[0;34m[\u001b[0m\u001b[0mDEFAULT_USER_COUNT\u001b[0m\u001b[0;34m-\u001b[0m\u001b[0;36m2\u001b[0m\u001b[0;34m]\u001b[0m\u001b[0;34m\u001b[0m\u001b[0;34m\u001b[0m\u001b[0m\n\u001b[0m\u001b[1;32m      9\u001b[0m \u001b[0;34m\u001b[0m\u001b[0m\n\u001b[1;32m     10\u001b[0m \u001b[0mdelete_and_return_last_user\u001b[0m\u001b[0;34m(\u001b[0m\u001b[0;34m)\u001b[0m\u001b[0;34m\u001b[0m\u001b[0;34m\u001b[0m\u001b[0m\n",
      "\u001b[0;31mIndexError\u001b[0m: list index out of range"
     ]
    }
   ],
   "source": [
    "DEFAULT_USER_COUNT = 3\n",
    "default_list = ['A100', 'A101', 'A102']\n",
    "# region\n",
    "\n",
    "def delete_and_return_last_user():\n",
    "    element_to_delete = default_list[-1]\n",
    "    default_list.remove(element_to_delete)\n",
    "    return default_list[DEFAULT_USER_COUNT-2]\n",
    "\n",
    "delete_and_return_last_user()\n",
    "delete_and_return_last_user()"
   ]
  },
  {
   "cell_type": "markdown",
   "metadata": {},
   "source": [
    "## 1. Ошибка list index out of range означает, что в списке отсутствует элемент с данным индексом. \n",
    "\n",
    "## 2. При повторном выполнени в default_list остается один элемент с индексом 0, а функция пытается вернуть не существующий элемент с индексом 1 (3-2)"
   ]
  },
  {
   "cell_type": "code",
   "execution_count": null,
   "metadata": {},
   "outputs": [],
   "source": []
  }
 ],
 "metadata": {
  "kernelspec": {
   "display_name": "Python 3",
   "language": "python",
   "name": "python3"
  },
  "language_info": {
   "codemirror_mode": {
    "name": "ipython",
    "version": 3
   },
   "file_extension": ".py",
   "mimetype": "text/x-python",
   "name": "python",
   "nbconvert_exporter": "python",
   "pygments_lexer": "ipython3",
   "version": "3.7.6"
  }
 },
 "nbformat": 4,
 "nbformat_minor": 4
}
