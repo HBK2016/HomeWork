{
 "cells": [
  {
   "cell_type": "markdown",
   "metadata": {},
   "source": [
    "# Домашнее задание\n",
    "1. Переведите содержимое файла purchase_log.txt в словарь purchases вида:\n",
    "```python\n",
    "{'1840e0b9d4': 'Продукты', ...}\n",
    "```\n",
    "\n",
    "2. Для каждого user_id в файле visit_log.csv определите третий столбец с категорией покупки (если покупка была, сам файл visit_log.csv изменять не надо). Запишите в файл funnel.csv визиты из файла visit_log.csv, в которых были покупки с указанием категории.\n",
    "\n",
    "Учтите условия на данные:\n",
    "- содержимое purchase_log.txt помещается в оперативную память компьютера\n",
    "- содержимое visit_log.csv - нет; используйте только построчную обработку этого файла"
   ]
  },
  {
   "cell_type": "code",
   "execution_count": 1,
   "metadata": {
    "scrolled": true
   },
   "outputs": [],
   "source": [
    "# первое задание:\n",
    "\n",
    "import json\n",
    "\n",
    "file = open('/home/denis/MyProjects/Netology/LECTURE/06/purchase_log.txt', 'r')\n",
    "list_file = file.readlines()\n",
    "file.close()\n",
    "\n",
    "purchases = {}\n",
    "\n",
    "for elem in list_file:\n",
    "#     if elem == list_file[0]:\n",
    "#         continue\n",
    "    purchases[json.loads(elem)[\"user_id\"]] = json.loads(elem)[\"category\"]\n",
    "\n",
    "# конец первого задания"
   ]
  },
  {
   "cell_type": "code",
   "execution_count": 2,
   "metadata": {},
   "outputs": [],
   "source": [
    "# второе задание: \n"
   ]
  },
  {
   "cell_type": "code",
   "execution_count": 2,
   "metadata": {},
   "outputs": [],
   "source": [
    "with open('/home/denis/MyProjects/Netology/LECTURE/06/visit_log.csv', 'r', encoding = 'utf-8') as visit_log:\n",
    "    with open('/home/denis/MyProjects/Netology/LECTURE/06/funnel.csv', 'w') as funnel:\n",
    "        new_list_2 = \"\"\n",
    "        for strings in visit_log:\n",
    "            new_list_2 = strings.strip().split(',')\n",
    "            if new_list_2[0] in purchases.keys():\n",
    "                funnel.write(f\"{strings.strip()},{purchases[new_list_2[0]]}\\n\")\n",
    "            else:\n",
    "                funnel.write(f\"{strings.strip()}\\n\")\n",
    "visit_log.close\n",
    "funnel.close"
   ]
  },
  {
   "cell_type": "code",
   "execution_count": 3,
   "metadata": {},
   "outputs": [
    {
     "name": "stdout",
     "output_type": "stream",
     "text": [
      "user_id,source,category\n",
      "\n",
      "6450655ae8,other\n",
      "\n",
      "b4ea53e670,other\n",
      "\n",
      "0e37347152,other\n",
      "\n",
      "96064ae9e0,other\n",
      "\n",
      "e1bd168161,context\n",
      "\n",
      "71bcf169b4,other\n",
      "\n",
      "e0aee73c5d,other\n",
      "\n",
      "1f8845e157,context\n",
      "\n",
      "78d22c5c78,other\n",
      "\n",
      "dd85040770,other\n",
      "\n",
      "2301051b25,other\n",
      "\n",
      "86835b81ac,context\n",
      "\n",
      "90d9a575a2,other\n",
      "\n",
      "1b75c4f23f,other\n",
      "\n",
      "d94b908660,None\n",
      "\n",
      "f697206af5,other\n",
      "\n",
      "8a9a2de36e,other\n",
      "\n",
      "dd3d43c266,context\n",
      "\n",
      "f6401d302f,context\n",
      "\n",
      "b18d58560b,email\n",
      "\n",
      "ed79586589,other\n",
      "\n",
      "1840e0b9d4,other,Продукты\n",
      "\n",
      "b4afdc5ccc,other\n",
      "\n",
      "470248aabf,other\n",
      "\n",
      "948d9be43c,other\n",
      "\n",
      "03592d16ac,other\n",
      "\n",
      "8554e1a9f9,context\n",
      "\n",
      "ceda3a4603,other\n",
      "\n",
      "282d7418ae,context\n",
      "\n"
     ]
    }
   ],
   "source": [
    "# Проверка второго задания:\n",
    "f1 = open('/home/denis/MyProjects/Netology/LECTURE/06/funnel.csv', 'r')\n",
    "for x in range(30):\n",
    "    print(f1.readline())    "
   ]
  },
  {
   "cell_type": "code",
   "execution_count": null,
   "metadata": {},
   "outputs": [],
   "source": []
  }
 ],
 "metadata": {
  "kernelspec": {
   "display_name": "Python 3",
   "language": "python",
   "name": "python3"
  },
  "language_info": {
   "codemirror_mode": {
    "name": "ipython",
    "version": 3
   },
   "file_extension": ".py",
   "mimetype": "text/x-python",
   "name": "python",
   "nbconvert_exporter": "python",
   "pygments_lexer": "ipython3",
   "version": "3.7.6"
  }
 },
 "nbformat": 4,
 "nbformat_minor": 2
}
