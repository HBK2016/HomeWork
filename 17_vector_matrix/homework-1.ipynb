{
 "cells": [
  {
   "cell_type": "markdown",
   "metadata": {},
   "source": [
    "# Домашняя работа №1"
   ]
  },
  {
   "cell_type": "code",
   "execution_count": 1,
   "metadata": {},
   "outputs": [],
   "source": [
    "import numpy as np\n",
    "import pylab as pl\n",
    "import pandas as pd\n",
    "import warnings\n",
    "import math\n",
    "\n",
    "from matplotlib import pyplot as plt\n",
    "from scipy import linalg\n",
    "import sympy as sp\n",
    "\n",
    "from mpl_toolkits.mplot3d import Axes3D\n",
    "import matplotlib as mpl\n",
    "from sympy import Matrix\n",
    "from sympy.abc import x, y\n",
    "\n",
    "warnings.filterwarnings(\"ignore\")"
   ]
  },
  {
   "cell_type": "markdown",
   "metadata": {},
   "source": [
    "## Задание 1"
   ]
  },
  {
   "cell_type": "markdown",
   "metadata": {},
   "source": [
    "Изобразите с помощью matplotlib. Изобразите точку x + 2y + 3z. Найдите угол между векторами x, y и x, z. "
   ]
  },
  {
   "cell_type": "code",
   "execution_count": 5,
   "metadata": {},
   "outputs": [
    {
     "name": "stdout",
     "output_type": "stream",
     "text": [
      "7\n"
     ]
    }
   ],
   "source": [
    "x = np.array([1, 1])\n",
    "y = np.array([2, 0])\n",
    "z = np.array([0, 2])\n",
    "\n",
    "new =np.array([(x[0]+2*y[0]+3*z[0]), (x[1]+2*y[1]+3*z[1])])"
   ]
  },
  {
   "cell_type": "code",
   "execution_count": 9,
   "metadata": {},
   "outputs": [
    {
     "data": {
      "image/png": "[encoded data removed]",
      "text/plain": [
       "<Figure size 432x288 with 1 Axes>"
      ]
     },
     "metadata": {
      "needs_background": "light"
     },
     "output_type": "display_data"
    }
   ],
   "source": [
    "ax = plt.axes()\n",
    "\n",
    "plt.xlim( [0, 8] )\n",
    "plt.ylim( [0, 8] )\n",
    "\n",
    "ax.arrow( 0, 0, x[0], x[1], head_width=0.3, head_length=0.5, fc='k', ec='k' )\n",
    "ax.arrow( 0, 0, y[0], y[1], head_width=0.3, head_length=0.5, fc='k', ec='k' )\n",
    "ax.arrow( 0, 0, z[0], z[1], head_width=0.3, head_length=0.5, fc='k', ec='k' )\n",
    "ax.arrow( 0, 0, new[0], new[1], head_width=0.3, head_length=0.5, fc='k', ec='k' )\n",
    "\n",
    "plt.show()"
   ]
  },
  {
   "cell_type": "code",
   "execution_count": 6,
   "metadata": {},
   "outputs": [
    {
     "name": "stdout",
     "output_type": "stream",
     "text": [
      "угол между векторами x, y = 0.7071067811865475\n",
      "угол между векторами x, z = 0.7071067811865475\n"
     ]
    }
   ],
   "source": [
    "xLength = np.linalg.norm(x)\n",
    "yLength = np.linalg.norm(y)\n",
    "zLength = np.linalg.norm(z)\n",
    "    \n",
    "print(f'угол между векторами x, y = {np.dot( x, y ) / ( xLength * yLength )}')\n",
    "print(f'угол между векторами x, z = {np.dot( x, z ) / ( xLength * zLength )}')"
   ]
  },
  {
   "cell_type": "markdown",
   "metadata": {},
   "source": [
    "## Задание 2"
   ]
  },
  {
   "cell_type": "markdown",
   "metadata": {},
   "source": [
    "Найдите собственные значения и собственные вектора матриц (необходимо решение на numpy). Для матрицы 3x3 можно посмотреть на корни характеристического многочлена, посчитанные в numpy."
   ]
  },
  {
   "cell_type": "code",
   "execution_count": 19,
   "metadata": {},
   "outputs": [
    {
     "name": "stdout",
     "output_type": "stream",
     "text": [
      "Матрица m1\n",
      "Собственное значение 1.0\n",
      "соответствующий ему собственный вектор [-0.89442719  0.4472136 ]\n",
      "Собственное значение 4.0\n",
      "соответствующий ему собственный вектор [-0.70710678 -0.70710678]\n",
      "\n",
      "Матрица m2\n",
      "Собственное значение 5.999999999999998\n",
      "соответствующий ему собственный вектор [-0.57735027 -0.57735027  0.57735027]\n",
      "Собственное значение 2.9999999999999982\n",
      "соответствующий ему собственный вектор [-0.81649658  0.40824829 -0.40824829]\n",
      "Собственное значение 2.9999999999999996\n",
      "соответствующий ему собственный вектор [0.15430335 0.6172134  0.77151675]\n",
      "\n",
      "Корни характеристического многочлена матрицы m2:\n"
     ]
    },
    {
     "data": {
      "text/latex": [
       "$\\displaystyle \\operatorname{PurePoly}{\\left( \\lambda^{3} - 12 \\lambda^{2} + 45 \\lambda - 54, \\lambda, domain=\\mathbb{Z} \\right)}$"
      ],
      "text/plain": [
       "PurePoly(lambda**3 - 12*lambda**2 + 45*lambda - 54, lambda, domain='ZZ')"
      ]
     },
     "execution_count": 19,
     "metadata": {},
     "output_type": "execute_result"
    }
   ],
   "source": [
    "m1 = np.array([[2, 2],\n",
    "               [1, 3]])\n",
    "\n",
    "m2 = np.array([[4, 1, -1],\n",
    "               [1, 4, -1],\n",
    "               [-1, -1, 4]])\n",
    "\n",
    "w, v = np.linalg.eig(m1)\n",
    "\n",
    "\n",
    "print(\"Матрица m1\")\n",
    "for i in range(len(w)):\n",
    "    print(\"Собственное значение \" + str(w[i]))\n",
    "    print(\"соответствующий ему собственный вектор \" + str(v[:,i]))\n",
    "    \n",
    "w1, v1 = np.linalg.eig(m2)\n",
    "\n",
    "print(\"\")\n",
    "\n",
    "print(\"Матрица m2\")\n",
    "\n",
    "for i in range(len(w1)):\n",
    "    print(\"Собственное значение \" + str(w1[i]))\n",
    "    print(\"соответствующий ему собственный вектор \" + str(v1[:,i]))\n",
    "    \n",
    "# det = np.linalg.det(m2)\n",
    "print('')\n",
    "print('Корни характеристического многочлена матрицы m2:')\n",
    "M = Matrix(m2)\n",
    "M.charpoly()\n",
    "    "
   ]
  },
  {
   "cell_type": "code",
   "execution_count": null,
   "metadata": {},
   "outputs": [],
   "source": []
  },
  {
   "cell_type": "markdown",
   "metadata": {},
   "source": [
    "## Задание 3"
   ]
  },
  {
   "cell_type": "markdown",
   "metadata": {},
   "source": [
    "Найдите сингулярное разложение матрицы."
   ]
  },
  {
   "cell_type": "code",
   "execution_count": 20,
   "metadata": {},
   "outputs": [],
   "source": [
    "m3 = np.array([[1, 2],\n",
    "               [2, 3]])"
   ]
  },
  {
   "cell_type": "code",
   "execution_count": 21,
   "metadata": {},
   "outputs": [
    {
     "data": {
      "text/plain": [
       "(array([[-0.52573111, -0.85065081],\n",
       "        [-0.85065081,  0.52573111]]),\n",
       " array([4.23606798, 0.23606798]),\n",
       " array([[-0.52573111, -0.85065081],\n",
       "        [ 0.85065081, -0.52573111]]))"
      ]
     },
     "execution_count": 21,
     "metadata": {},
     "output_type": "execute_result"
    }
   ],
   "source": [
    "np.linalg.svd(m3)"
   ]
  },
  {
   "cell_type": "code",
   "execution_count": null,
   "metadata": {},
   "outputs": [],
   "source": []
  }
 ],
 "metadata": {
  "kernelspec": {
   "display_name": "Python 3",
   "language": "python",
   "name": "python3"
  },
  "language_info": {
   "codemirror_mode": {
    "name": "ipython",
    "version": 3
   },
   "file_extension": ".py",
   "mimetype": "text/x-python",
   "name": "python",
   "nbconvert_exporter": "python",
   "pygments_lexer": "ipython3",
   "version": "3.7.6"
  }
 },
 "nbformat": 4,
 "nbformat_minor": 2
}
