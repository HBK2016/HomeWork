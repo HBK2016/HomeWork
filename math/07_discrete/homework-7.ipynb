{
 "cells": [
  {
   "cell_type": "code",
   "execution_count": 1,
   "metadata": {},
   "outputs": [],
   "source": [
    "import matplotlib.pyplot as plt\n",
    "import numpy as np\n",
    "import random\n",
    "import seaborn\n",
    "\n",
    "import numpy as np\n",
    "import matplotlib.pyplot as plt\n",
    "import matplotlib.mlab as mlab\n",
    "from sklearn.neighbors import KernelDensity\n",
    "\n",
    "\n",
    "from numpy.random import choice\n",
    "from scipy.stats import *\n",
    "from itertools import product\n",
    "import math\n",
    "from math import pow"
   ]
  },
  {
   "cell_type": "markdown",
   "metadata": {},
   "source": [
    "### Задание 1"
   ]
  },
  {
   "cell_type": "markdown",
   "metadata": {},
   "source": [
    "Монетку подбрасывают 15 раз, найдите вероятность выпадения простого числа орлов (решение на бумажке и на python)."
   ]
  },
  {
   "cell_type": "markdown",
   "metadata": {},
   "source": [
    "$ P=Pn(k)=C^kn⋅p^k⋅(1−p)^(n−k) $\n",
    "\n",
    "$ Ckn=n!/k!(n−k)! $\n",
    "\n",
    "k = 7\n",
    "\n",
    "n = 15\n",
    "\n",
    "p^k = (1/2)^7\n",
    "\n",
    "n = 15\n",
    "\n",
    "$ p = C^7$15$ * (1/2)^7 * (1-1/2)^8 $\n",
    "\n",
    "$ p = 6435 * 1/128 * 1/256 $\n",
    "$ p = 50.27 * 0,0039 = 0,1963 $\n"
   ]
  },
  {
   "cell_type": "code",
   "execution_count": 541,
   "metadata": {},
   "outputs": [
    {
     "data": {
      "text/plain": [
       "0.1963806152343757"
      ]
     },
     "execution_count": 541,
     "metadata": {},
     "output_type": "execute_result"
    }
   ],
   "source": [
    "binom.pmf(k=7, n=15, p=0.5, loc=0)"
   ]
  },
  {
   "cell_type": "code",
   "execution_count": 57,
   "metadata": {},
   "outputs": [],
   "source": [
    "def get_porbality(k, n, pk):\n",
    "    p = math.factorial(n)/(math.factorial(k)*math.factorial(n-k)) * pow((pk), k) * pow((1-pk), (n-k))\n",
    "    return p"
   ]
  },
  {
   "cell_type": "code",
   "execution_count": 78,
   "metadata": {},
   "outputs": [],
   "source": [
    "k = 7.\n",
    "n = 15.\n",
    "nk = 1.\n",
    "mk = 2.\n",
    "pk = nk/mk"
   ]
  },
  {
   "cell_type": "code",
   "execution_count": 79,
   "metadata": {},
   "outputs": [
    {
     "data": {
      "text/plain": [
       "0.196380615234375"
      ]
     },
     "execution_count": 79,
     "metadata": {},
     "output_type": "execute_result"
    }
   ],
   "source": [
    "prob = get_porbality(k, n, pk)\n",
    "prob"
   ]
  },
  {
   "cell_type": "markdown",
   "metadata": {},
   "source": [
    "### Задание 2"
   ]
  },
  {
   "cell_type": "markdown",
   "metadata": {},
   "source": [
    "Создайте свою дискретную случайную величину с не менее, чем 10 значениями. Просемплируйте 1000 случайных значений, постройте гистограмму плотности распределения по выборке, посчитайте среднее, дисперсию и медиану."
   ]
  },
  {
   "cell_type": "code",
   "execution_count": 211,
   "metadata": {},
   "outputs": [
    {
     "data": {
      "text/plain": [
       "[Text(0, 0.5, 'Frequency'), Text(0.5, 0, 'Elements')]"
      ]
     },
     "execution_count": 211,
     "metadata": {},
     "output_type": "execute_result"
    },
    {
     "data": {
      "image/png": "[encoded data removed]",
      "text/plain": [
       "<Figure size 432x288 with 1 Axes>"
      ]
     },
     "metadata": {
      "needs_background": "light"
     },
     "output_type": "display_data"
    }
   ],
   "source": [
    "elements = np.random.random(20)\n",
    "probabilities = [1/20 for x in range(20)]\n",
    "data = np.random.choice(elements, 1000, p=probabilities)\n",
    "\n",
    "ax=seaborn.distplot(data,\n",
    "                kde=True,\n",
    "                color='Blue')\n",
    "ax.set(xlabel='Elements',ylabel='Frequency')"
   ]
  },
  {
   "cell_type": "code",
   "execution_count": 212,
   "metadata": {},
   "outputs": [
    {
     "name": "stdout",
     "output_type": "stream",
     "text": [
      "0.43675288089754893\n",
      "0.41568616566832806\n",
      "0.04380721212546639\n"
     ]
    }
   ],
   "source": [
    "print(data.mean())\n",
    "print(np.median(data))\n",
    "print(data.var())"
   ]
  },
  {
   "cell_type": "markdown",
   "metadata": {},
   "source": [
    "### Задание 3"
   ]
  },
  {
   "cell_type": "markdown",
   "metadata": {},
   "source": [
    "Пусть брошены 3 уравновешенные монеты. Рассмотрим 3 события:\n",
    "\n",
    "$A_1$ - монеты 1 и 2 упали одной и той же стороной,\n",
    "\n",
    "$A_2$ - монеты 2 и 3 упали одной и той же стороной,\n",
    "\n",
    "$A_3$ - монеты 1 и 3 упали одной и той же стороной.\n",
    "\n",
    "Покажите, почему эти 3 события являются попарно независимыми, но <b>не</b> являются независимыми в совокупности."
   ]
  },
  {
   "cell_type": "code",
   "execution_count": 195,
   "metadata": {},
   "outputs": [
    {
     "name": "stdout",
     "output_type": "stream",
     "text": [
      "Вероятность события А1A2 0.25\n",
      "Вероятность события А1 0.5\n",
      "Вероятность события А2 0.5\n",
      "Вероятность события А1*A2 0.25\n"
     ]
    }
   ],
   "source": [
    "# Являются попарно независимыми т.к. выполняется следующее условие: \n",
    "# P( AiUAj) = P( Ai) P( Aj) A.T i не равно j \n",
    "\n",
    "print(f\"Вероятность события А1UA2 {1/4}\")\n",
    "print(f\"Вероятность события А1 {1/2}\")\n",
    "print(f\"Вероятность события А2 {1/2}\")\n",
    "print(f\"Вероятность события А1*A2 {1/2*1/2}\")"
   ]
  },
  {
   "cell_type": "code",
   "execution_count": 196,
   "metadata": {},
   "outputs": [
    {
     "name": "stdout",
     "output_type": "stream",
     "text": [
      "Вероятность события А1UA2UA3 0.25\n",
      "Вероятность события А1 0.5\n",
      "Вероятность события А2 0.5\n",
      "Вероятность события А3 0.5\n",
      "Вероятность события А1*A2*A3 0.125\n"
     ]
    }
   ],
   "source": [
    "# не являются независимыми в совокупности, т.к. P(A1UA2A3) не равно P(A1)* P(A2)*P(A3)\n",
    "\n",
    "print(f\"Вероятность события А1UA2UA3 {1/4}\")\n",
    "print(f\"Вероятность события А1 {1/2}\")\n",
    "print(f\"Вероятность события А2 {1/2}\")\n",
    "print(f\"Вероятность события А3 {1/2}\")\n",
    "print(f\"Вероятность события А1*A2*A3 {1/2*1/2*1/2}\")"
   ]
  },
  {
   "cell_type": "markdown",
   "metadata": {},
   "source": [
    "### Задание 4 (формула полной вероятности)"
   ]
  },
  {
   "cell_type": "markdown",
   "metadata": {},
   "source": [
    "В магазин привезли устройства с 3-х разных предприятий. Соотношение устройств следующее: 20% - продукция первого предприятия, 30% - продукция второго предприятия, 50% - продукция третьего предприятия; далее, 10% продукции первого предприятия высшего сорта, на втором предприятии - 5% и на третьем - 20% продукции высшего сорта. Найти вероятность того, что случайно купленная новая продукция окажется высшего сорта."
   ]
  },
  {
   "cell_type": "code",
   "execution_count": 234,
   "metadata": {},
   "outputs": [
    {
     "name": "stdout",
     "output_type": "stream",
     "text": [
      "0.5 0.16666666666666666 0.4\n",
      "Вероятность высшего сорта 0.4377777777777778\n"
     ]
    }
   ],
   "source": [
    "high_quality = [10, 5, 20]\n",
    "ratio = [20, 30, 50]\n",
    "\n",
    "b1 = high_quality[0]/ratio[0]\n",
    "b2 = high_quality[1]/ratio[1]\n",
    "b3 = high_quality[2]/ratio[2]\n",
    "\n",
    "ab1 = 1/2\n",
    "ab2 = 1/6\n",
    "ab3 = 2/5\n",
    "\n",
    "print(b1, b2, b3)\n",
    "print(f'Вероятность высшего сорта {ab1*b1+ab2*b2+ab3*b3}')"
   ]
  },
  {
   "cell_type": "code",
   "execution_count": null,
   "metadata": {},
   "outputs": [],
   "source": []
  },
  {
   "cell_type": "code",
   "execution_count": null,
   "metadata": {},
   "outputs": [],
   "source": []
  }
 ],
 "metadata": {
  "kernelspec": {
   "display_name": "Python 3",
   "language": "python",
   "name": "python3"
  },
  "language_info": {
   "codemirror_mode": {
    "name": "ipython",
    "version": 3
   },
   "file_extension": ".py",
   "mimetype": "text/x-python",
   "name": "python",
   "nbconvert_exporter": "python",
   "pygments_lexer": "ipython3",
   "version": "3.7.6"
  }
 },
 "nbformat": 4,
 "nbformat_minor": 2
}
