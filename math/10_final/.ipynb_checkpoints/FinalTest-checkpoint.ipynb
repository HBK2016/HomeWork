{
 "cells": [
  {
   "cell_type": "code",
   "execution_count": 1,
   "metadata": {},
   "outputs": [],
   "source": [
    "import matplotlib.pyplot as plt\n",
    "import numpy as np\n",
    "import pandas as pd\n",
    "\n",
    "from scipy.optimize import minimize\n",
    "%matplotlib inline"
   ]
  },
  {
   "cell_type": "markdown",
   "metadata": {},
   "source": [
    "### Задание 1"
   ]
  },
  {
   "cell_type": "markdown",
   "metadata": {},
   "source": [
    "Дана матрица рейтингов фильмов (строки - пользователи (10 человек), столбцы - фильмы (15 фильмов))"
   ]
  },
  {
   "cell_type": "code",
   "execution_count": 2,
   "metadata": {},
   "outputs": [],
   "source": [
    "raitings = np.array([[ 4,  4,  9,  4,  1,  6, 10,  7,  9,  6,  9,  2,  8,  6,  6],\n",
    "                     [ 9,  2,  5, 10,  7,  8, 10,  5,  6,  2,  1,  6,  8,  9,  7],\n",
    "                     [ 1,  6,  8,  8,  4,  9,  3,  8, 10,  5,  2,  6,  8,  1,  6],\n",
    "                     [ 6,  1,  9,  7,  7,  9,  2,  3,  5,  1,  6,  6,  3,  2,  7],\n",
    "                     [ 3,  7,  3,  5,  7,  9,  9,  6,  2,  9,  1,  2,  8, 10,  6],\n",
    "                     [ 8,  3,  7,  3,  8,  6,  1,  8,  8,  6,  1,  9,  4, 10,  1],\n",
    "                     [ 9,  8,  4,  8,  8, 10,  6,  1,  1,  2,  9,  5,  2,  7,  2],\n",
    "                     [ 4,  1,  6,  4,  3, 10,  4,  4,  2,  8,  7,  9,  3,  8,  3],\n",
    "                     [ 2,  7,  7,  6, 10,  6,  8,  9,  8,  6, 10,  1,  7, 10,  4],\n",
    "                     [ 5, 10,  8,  8,  9,  7,  2,  9,  9, 10,  8,  8,  8,  6, 10]])"
   ]
  },
  {
   "cell_type": "markdown",
   "metadata": {},
   "source": [
    "<b> a) </b> Необходимо найти наиболее похожего пользователя по косинусной метрике для каждого из (ответ: 10 пар вида (x, y), где y - наиболее похожий пользователь на пользователя x)."
   ]
  },
  {
   "cell_type": "code",
   "execution_count": 3,
   "metadata": {},
   "outputs": [
    {
     "name": "stdout",
     "output_type": "stream",
     "text": [
      "наиболее близкий вектор к [ 4  4  9  4  1  6 10  7  9  6  9  2  8  6  6] является [ 2  7  7  6 10  6  8  9  8  6 10  1  7 10  4] со значением 0.91\n",
      "наиболее близкий вектор к [ 9  2  5 10  7  8 10  5  6  2  1  6  8  9  7] является [ 3  7  3  5  7  9  9  6  2  9  1  2  8 10  6] со значением 0.87\n",
      "наиболее близкий вектор к [ 1  6  8  8  4  9  3  8 10  5  2  6  8  1  6] является [ 5 10  8  8  9  7  2  9  9 10  8  8  8  6 10] со значением 0.92\n",
      "наиболее близкий вектор к [6 1 9 7 7 9 2 3 5 1 6 6 3 2 7] является [ 5 10  8  8  9  7  2  9  9 10  8  8  8  6 10] со значением 0.86\n",
      "наиболее близкий вектор к [ 3  7  3  5  7  9  9  6  2  9  1  2  8 10  6] является [ 2  7  7  6 10  6  8  9  8  6 10  1  7 10  4] со значением 0.88\n",
      "наиболее близкий вектор к [ 8  3  7  3  8  6  1  8  8  6  1  9  4 10  1] является [ 5 10  8  8  9  7  2  9  9 10  8  8  8  6 10] со значением 0.86\n",
      "наиболее близкий вектор к [ 9  8  4  8  8 10  6  1  1  2  9  5  2  7  2] является [6 1 9 7 7 9 2 3 5 1 6 6 3 2 7] со значением 0.83\n",
      "наиболее близкий вектор к [ 4  1  6  4  3 10  4  4  2  8  7  9  3  8  3] является [ 8  3  7  3  8  6  1  8  8  6  1  9  4 10  1] со значением 0.84\n",
      "наиболее близкий вектор к [ 2  7  7  6 10  6  8  9  8  6 10  1  7 10  4] является [ 4  4  9  4  1  6 10  7  9  6  9  2  8  6  6] со значением 0.91\n",
      "наиболее близкий вектор к [ 5 10  8  8  9  7  2  9  9 10  8  8  8  6 10] является [ 1  6  8  8  4  9  3  8 10  5  2  6  8  1  6] со значением 0.92\n"
     ]
    }
   ],
   "source": [
    "def get_ugol(a, b):\n",
    "    return np.dot(a,b)/( np.linalg.norm(a)*np.linalg.norm(b))\n",
    "\n",
    "for num, vector in enumerate(raitings):\n",
    "    dict_vect = {}\n",
    "    for i in raitings:\n",
    "        if get_ugol(vector, i) < 0.99:\n",
    "            dict_vect[get_ugol(vector, i)] = i\n",
    "    print(f'наиболее близкий вектор к {vector} является {dict_vect[max(dict_vect.keys())]} со значением {max(dict_vect.keys()):.2f}')\n",
    "    "
   ]
  },
  {
   "cell_type": "markdown",
   "metadata": {},
   "source": [
    "<b> b) </b>Предположим, вы захотели сжать признаковые описания пользователя с 15 фильмов, до, скажем, 5-ти признаков, как вы это сделаете?"
   ]
  },
  {
   "cell_type": "code",
   "execution_count": 4,
   "metadata": {},
   "outputs": [
    {
     "name": "stdout",
     "output_type": "stream",
     "text": [
      "median of user 0 6.0\n",
      "mean of user 0 6.066666666666666\n",
      "var of user 0 6.72888888888889\n",
      "median of user 1 7.0\n",
      "mean of user 1 6.333333333333333\n",
      "var of user 1 7.822222222222222\n",
      "median of user 2 6.0\n",
      "mean of user 2 5.666666666666667\n",
      "var of user 2 7.955555555555557\n",
      "median of user 3 6.0\n",
      "mean of user 3 4.933333333333334\n",
      "var of user 3 6.995555555555556\n",
      "median of user 4 6.0\n",
      "mean of user 4 5.8\n",
      "var of user 4 8.293333333333333\n",
      "median of user 5 6.0\n",
      "mean of user 5 5.533333333333333\n",
      "var of user 5 9.048888888888888\n",
      "median of user 6 6.0\n",
      "mean of user 6 5.466666666666667\n",
      "var of user 6 9.715555555555557\n",
      "median of user 7 4.0\n",
      "mean of user 7 5.066666666666666\n",
      "var of user 7 6.995555555555556\n",
      "median of user 8 7.0\n",
      "mean of user 8 6.733333333333333\n",
      "var of user 8 6.995555555555556\n",
      "median of user 9 8.0\n",
      "mean of user 9 7.8\n",
      "var of user 9 4.293333333333333\n"
     ]
    }
   ],
   "source": [
    "for numer, elem in enumerate(raitings):\n",
    "    print(f\"median of user {numer} {np.median(sorted(elem))}\")\n",
    "    print(f\"mean of user {numer} {elem.mean()}\")\n",
    "    print(f\"var of user {numer} {elem.var()}\")"
   ]
  },
  {
   "cell_type": "code",
   "execution_count": 18,
   "metadata": {},
   "outputs": [
    {
     "data": {
      "text/plain": [
       "[[6, 7, 6, 8, 6, 6],\n",
       " [7, 8, 6, 6, 8, 7],\n",
       " [6, 4, 5, 6, 6],\n",
       " [6, 3, 5, 6, 6, 3],\n",
       " [7, 5, 7, 6, 8, 6],\n",
       " [7, 6, 6, 4],\n",
       " [4, 6, 5, 7],\n",
       " [4, 6, 4, 4, 4, 7],\n",
       " [7, 7, 8, 8, 7],\n",
       " [8, 8, 8, 8, 8]]"
      ]
     },
     "execution_count": 18,
     "metadata": {},
     "output_type": "execute_result"
    }
   ],
   "source": [
    "sorted_list = []\n",
    "\n",
    "for users in raitings:\n",
    "    list_in_list = []\n",
    "    sorted_list.append(list_in_list)\n",
    "    q1 = np.quantile(users, 0.25)\n",
    "    q3 = np.quantile(users, 0.75)\n",
    "    for i in users:\n",
    "        if  i > q1  and i < q3:\n",
    "            list_in_list.append(i)\n",
    "        \n",
    "sorted_list"
   ]
  },
  {
   "cell_type": "code",
   "execution_count": 19,
   "metadata": {},
   "outputs": [
    {
     "data": {
      "text/plain": [
       "[[7, 6, 6, 6, 6.5],\n",
       " [7, 6, 8, 7, 7.0],\n",
       " [6, 4, 5, 6, 6],\n",
       " [5, 6, 6, 3, 4.833333333333333],\n",
       " [7, 7, 6, 6, 6.5],\n",
       " [7, 6, 6, 4, 5.75],\n",
       " [4, 6, 5, 7, 5.5],\n",
       " [6, 4, 4, 4, 4.833333333333333],\n",
       " [7, 7, 8, 8, 7],\n",
       " [8, 8, 8, 8, 8]]"
      ]
     },
     "execution_count": 19,
     "metadata": {},
     "output_type": "execute_result"
    }
   ],
   "source": [
    "for i in sorted_list:\n",
    "    if len(i) > 5:\n",
    "        i.append(np.mean(i))\n",
    "        i.remove(min(i))\n",
    "        i.remove(max(i))\n",
    "    if len(i) < 5:\n",
    "        i.append(np.mean(i))\n",
    "\n",
    "sorted_list"
   ]
  },
  {
   "cell_type": "code",
   "execution_count": 21,
   "metadata": {},
   "outputs": [
    {
     "name": "stdout",
     "output_type": "stream",
     "text": [
      "median of user 0 6.0 versus 6.0\n",
      "mean of user 0 6.3 versus 6.066666666666666\n",
      "median of user 1 7.0 versus 7.0\n",
      "mean of user 1 7.0 versus 6.333333333333333\n",
      "median of user 2 6.0 versus 6.0\n",
      "mean of user 2 5.4 versus 5.666666666666667\n",
      "median of user 3 5.0 versus 6.0\n",
      "mean of user 3 4.966666666666667 versus 4.933333333333334\n",
      "median of user 4 6.5 versus 6.0\n",
      "mean of user 4 6.5 versus 5.8\n",
      "median of user 5 6.0 versus 6.0\n",
      "mean of user 5 5.75 versus 5.533333333333333\n",
      "median of user 6 5.5 versus 6.0\n",
      "mean of user 6 5.5 versus 5.466666666666667\n",
      "median of user 7 4.0 versus 4.0\n",
      "mean of user 7 4.566666666666666 versus 5.066666666666666\n",
      "median of user 8 7.0 versus 7.0\n",
      "mean of user 8 7.4 versus 6.733333333333333\n",
      "median of user 9 8.0 versus 8.0\n",
      "mean of user 9 8.0 versus 7.8\n"
     ]
    }
   ],
   "source": [
    "sorted_array = np.array(sorted_list)\n",
    "j=0\n",
    "\n",
    "for numer, elem in enumerate(sorted_array):\n",
    "    print(f\"median of user {numer} {np.median(sorted(elem))} versus {np.median(sorted(raitings[j]))}\")\n",
    "    print(f\"mean of user {numer} {elem.mean()} versus {raitings[j].mean()}\")\n",
    "    j+=1"
   ]
  },
  {
   "cell_type": "markdown",
   "metadata": {},
   "source": [
    "### Задание 2"
   ]
  },
  {
   "cell_type": "markdown",
   "metadata": {},
   "source": [
    "Вычислите производную $tg^2(sin(x) + cos(2x+3))$ в точке $x_0=1$ на python и на бумаге (просто подставить точку в производную и ничего не упрощать)."
   ]
  },
  {
   "cell_type": "code",
   "execution_count": 2,
   "metadata": {},
   "outputs": [],
   "source": [
    "from sympy import diff, symbols, cos, sin, tan\n",
    "from scipy.misc import derivative"
   ]
  },
  {
   "cell_type": "code",
   "execution_count": 9,
   "metadata": {},
   "outputs": [
    {
     "data": {
      "text/latex": [
       "$\\displaystyle 2 \\left(- 2 \\sin{\\left(2 x + 3 \\right)} + \\cos{\\left(x \\right)}\\right) \\left(\\tan^{2}{\\left(\\sin{\\left(x \\right)} + \\cos{\\left(2 x + 3 \\right)} \\right)} + 1\\right) \\tan{\\left(\\sin{\\left(x \\right)} + \\cos{\\left(2 x + 3 \\right)} \\right)}$"
      ],
      "text/plain": [
       "2*(-2*sin(2*x + 3) + cos(x))*(tan(sin(x) + cos(2*x + 3))**2 + 1)*tan(sin(x) + cos(2*x + 3))"
      ]
     },
     "execution_count": 9,
     "metadata": {},
     "output_type": "execute_result"
    }
   ],
   "source": [
    "x = symbols('x')\n",
    "df = diff(tan(sin(x) + cos(2*x+3))**2)\n",
    "df"
   ]
  },
  {
   "cell_type": "code",
   "execution_count": 17,
   "metadata": {},
   "outputs": [
    {
     "data": {
      "text/plain": [
       "55.385917635337854"
      ]
     },
     "execution_count": 17,
     "metadata": {},
     "output_type": "execute_result"
    }
   ],
   "source": [
    "def f(x):\n",
    "    return 2*(-2*np.sin(2*x+3)+np.cos(x))*((np.tan(np.sin(x)+np.cos(2*x+3))**2)+1)*np.tan(np.sin(x)+np.cos(2*x+3))\n",
    "\n",
    "f(1)"
   ]
  },
  {
   "cell_type": "code",
   "execution_count": 20,
   "metadata": {},
   "outputs": [
    {
     "data": {
      "text/latex": [
       "$\\displaystyle 55.3859176433136$"
      ],
      "text/plain": [
       "55.3859176433136"
      ]
     },
     "execution_count": 20,
     "metadata": {},
     "output_type": "execute_result"
    }
   ],
   "source": [
    "def f1(x):\n",
    "    return tan(sin(x) + cos(2*x+3))**2\n",
    "\n",
    "derivative(f1, 1.0, dx=1e-6)"
   ]
  },
  {
   "cell_type": "markdown",
   "metadata": {},
   "source": [
    "$ tan^2(sin(x)+cos(2⋅x+3)) $\n",
    "$ 2⋅tan(sin(x)+cos(2⋅x+3))⋅(tan(sin(x)+cos(2⋅x+3))) $\n",
    "$ 2⋅tan(sin(x)+cos(2⋅x+3))⋅f′(sin(x)+cos(2⋅x+3))*1/cos^2(sin(x)+cos(2⋅x+3)) $\n",
    "$ 2⋅tan(sin(x)+cos(2⋅x+3))⋅(f′(sin(x))+f′(cos(2⋅x+3)))*1/cos^2(sin(x)+cos(2⋅x+3)) $\n",
    "$ 2⋅tan(sin(x)+cos(2⋅x+3))⋅(cos(x)−sin(2⋅x+3)⋅f′(2⋅x+3))*1/cos^2(sin(x)+cos(2⋅x+3)) $\n",
    "$ 2⋅tan(sin(x)+cos(2⋅x+3))⋅(cos(x)−f′(2⋅x)⋅sin(2⋅x+3))*1/cos^2(sin(x)+cos(2⋅x+3)) $\n",
    "$ 2⋅tan(sin(x)+cos(2⋅x+3))⋅(cos(x)−2⋅f′(x)⋅sin(2⋅x+3))*1/cos^2(sin(x)+cos(2⋅x+3)) $\n",
    "$ 2⋅tan(sin(x)+cos(2⋅x+3))⋅(cos(x)−2⋅sin(2⋅x+3))*1/cos^2(sin(x)+cos(2⋅x+3)) $"
   ]
  },
  {
   "cell_type": "code",
   "execution_count": 25,
   "metadata": {},
   "outputs": [
    {
     "data": {
      "text/plain": [
       "55.38591763533786"
      ]
     },
     "execution_count": 25,
     "metadata": {},
     "output_type": "execute_result"
    }
   ],
   "source": [
    "def f2(x):\n",
    "    return 2*np.tan(np.sin(x)+np.cos(2*x+3))*(np.cos(x)-2*np.sin(2*x+3))*1/np.cos(np.sin(x)+np.cos(2*x+3))**2\n",
    "\n",
    "f2(1)"
   ]
  },
  {
   "cell_type": "markdown",
   "metadata": {},
   "source": [
    "### Задание 3"
   ]
  },
  {
   "cell_type": "markdown",
   "metadata": {},
   "source": [
    "Дана функция с неизвестными параметрами a и b, вам также известны значения функции fx в точках x. Найдите оптимальные параметры a, b, минимизирующие абсолютную ошибку <b>error</b>"
   ]
  },
  {
   "cell_type": "code",
   "execution_count": 104,
   "metadata": {},
   "outputs": [],
   "source": [
    "def f(x, a, b):\n",
    "    return np.e**a * np.sin(b*x) + x"
   ]
  },
  {
   "cell_type": "code",
   "execution_count": 105,
   "metadata": {},
   "outputs": [],
   "source": [
    "x = np.array([0.        , 0.26315789, 0.52631579, 0.78947368, 1.05263158,\n",
    "              1.31578947, 1.57894737, 1.84210526, 2.10526316, 2.36842105,\n",
    "              2.63157895, 2.89473684, 3.15789474, 3.42105263, 3.68421053,\n",
    "              3.94736842, 4.21052632, 4.47368421, 4.73684211, 5.        ])"
   ]
  },
  {
   "cell_type": "code",
   "execution_count": 106,
   "metadata": {},
   "outputs": [],
   "source": [
    "fx = np.array([  0.        , -12.01819092, -18.90968634, -17.68786571,\n",
    "                -8.7529108 ,   4.27524517,  16.06801336,  21.81250213,\n",
    "                19.22059845,   9.48411207,  -3.22273056, -13.48576488,\n",
    "               -16.91096359, -11.95866834,  -0.58630088,  12.56873816,\n",
    "                22.12489421,  24.20292139,  18.04522521,   6.33211092])"
   ]
  },
  {
   "cell_type": "code",
   "execution_count": 107,
   "metadata": {},
   "outputs": [
    {
     "data": {
      "image/png": "[encoded data removed]",
      "text/plain": [
       "<Figure size 432x288 with 1 Axes>"
      ]
     },
     "metadata": {
      "needs_background": "light"
     },
     "output_type": "display_data"
    }
   ],
   "source": [
    "plt.plot(x, fx)\n",
    "plt.show()"
   ]
  },
  {
   "cell_type": "code",
   "execution_count": 128,
   "metadata": {},
   "outputs": [
    {
     "data": {
      "text/plain": [
       "246.67827140949595"
      ]
     },
     "execution_count": 128,
     "metadata": {},
     "output_type": "execute_result"
    }
   ],
   "source": [
    "def error(params):\n",
    "    return np.sum(np.abs(fx - f(x, params[0], params[1])))\n",
    "\n",
    "error([0.551651, 7.01515])\n"
   ]
  },
  {
   "cell_type": "code",
   "execution_count": 131,
   "metadata": {},
   "outputs": [
    {
     "ename": "TypeError",
     "evalue": "minimize() got multiple values for argument 'method'",
     "output_type": "error",
     "traceback": [
      "\u001b[0;31m---------------------------------------------------------------------------\u001b[0m",
      "\u001b[0;31mTypeError\u001b[0m                                 Traceback (most recent call last)",
      "\u001b[0;32m<ipython-input-131-25165272cd21>\u001b[0m in \u001b[0;36m<module>\u001b[0;34m\u001b[0m\n\u001b[1;32m      3\u001b[0m \u001b[0mu\u001b[0m \u001b[0;34m=\u001b[0m \u001b[0mnp\u001b[0m\u001b[0;34m.\u001b[0m\u001b[0marray\u001b[0m\u001b[0;34m(\u001b[0m\u001b[0;36m200\u001b[0m\u001b[0;34m)\u001b[0m\u001b[0;34m\u001b[0m\u001b[0;34m\u001b[0m\u001b[0m\n\u001b[1;32m      4\u001b[0m \u001b[0;34m\u001b[0m\u001b[0m\n\u001b[0;32m----> 5\u001b[0;31m \u001b[0mminimize\u001b[0m\u001b[0;34m(\u001b[0m\u001b[0mf\u001b[0m\u001b[0;34m,\u001b[0m \u001b[0mx\u001b[0m\u001b[0;34m,\u001b[0m \u001b[0mu\u001b[0m\u001b[0;34m,\u001b[0m \u001b[0mu\u001b[0m\u001b[0;34m,\u001b[0m \u001b[0mmethod\u001b[0m\u001b[0;34m=\u001b[0m\u001b[0;34m'nelder-mead'\u001b[0m\u001b[0;34m,\u001b[0m \u001b[0moptions\u001b[0m\u001b[0;34m=\u001b[0m\u001b[0;34m{\u001b[0m\u001b[0;34m'xtol'\u001b[0m\u001b[0;34m:\u001b[0m \u001b[0;36m1e-8\u001b[0m\u001b[0;34m,\u001b[0m \u001b[0;34m'disp'\u001b[0m\u001b[0;34m:\u001b[0m \u001b[0;32mTrue\u001b[0m\u001b[0;34m}\u001b[0m\u001b[0;34m)\u001b[0m\u001b[0;34m\u001b[0m\u001b[0;34m\u001b[0m\u001b[0m\n\u001b[0m\u001b[1;32m      6\u001b[0m \u001b[0;34m\u001b[0m\u001b[0m\n\u001b[1;32m      7\u001b[0m \u001b[0;31m# approx_fprime(x, f(1, 1, 1), eps)\u001b[0m\u001b[0;34m\u001b[0m\u001b[0;34m\u001b[0m\u001b[0;34m\u001b[0m\u001b[0m\n",
      "\u001b[0;31mTypeError\u001b[0m: minimize() got multiple values for argument 'method'"
     ]
    }
   ],
   "source": [
    "from scipy.optimize import approx_fprime\n",
    "\n",
    "u = np.array(200)\n",
    "\n",
    "minimize(f, x, u, u, method='nelder-mead', options={'xtol': 1e-8, 'disp': True})\n",
    "\n",
    "# approx_fprime(x, f(1, 1, 1), eps)"
   ]
  },
  {
   "cell_type": "markdown",
   "metadata": {},
   "source": [
    "### Задание 4"
   ]
  },
  {
   "cell_type": "markdown",
   "metadata": {},
   "source": [
    "Создайте собственную дискретную случайную величину с 20 значениями. Сгенерируйте 1000 выборок размера 50. Посчитайте среднее для каждой выборки. Постройте гистограмму распределения средних."
   ]
  },
  {
   "cell_type": "code",
   "execution_count": 37,
   "metadata": {},
   "outputs": [
    {
     "data": {
      "text/plain": [
       "[Text(0, 0.5, 'Frequency'), Text(0.5, 0, 'Elements')]"
      ]
     },
     "execution_count": 37,
     "metadata": {},
     "output_type": "execute_result"
    },
    {
     "data": {
      "image/png": "[encoded data removed]",
      "text/plain": [
       "<Figure size 432x288 with 1 Axes>"
      ]
     },
     "metadata": {
      "needs_background": "light"
     },
     "output_type": "display_data"
    }
   ],
   "source": [
    "import seaborn\n",
    "\n",
    "elements = np.random.random(20)\n",
    "probabilities = [1/20 for x in range(20)]\n",
    "data = np.random.choice(elements, 1000, p=probabilities)\n",
    "\n",
    "ax=seaborn.distplot(data,\n",
    "                kde=True,\n",
    "                color='Blue')и\n",
    "ax.set(xlabel='Elements',ylabel='Frequency')"
   ]
  },
  {
   "cell_type": "code",
   "execution_count": 38,
   "metadata": {},
   "outputs": [
    {
     "name": "stdout",
     "output_type": "stream",
     "text": [
      "0.4202312023139385\n",
      "0.38261509258648774\n",
      "0.0809399373256451\n"
     ]
    }
   ],
   "source": [
    "print(data.mean())\n",
    "print(np.median(data))\n",
    "print(data.var())"
   ]
  },
  {
   "cell_type": "markdown",
   "metadata": {},
   "source": [
    "### Задание 5"
   ]
  },
  {
   "cell_type": "markdown",
   "metadata": {},
   "source": [
    "Найдите собственные значения и собственные вектора матрицы (на python и на бумаге)\n",
    "\n",
    "[[1, 4],\n",
    "\n",
    " [1, 1]]"
   ]
  },
  {
   "cell_type": "code",
   "execution_count": 34,
   "metadata": {},
   "outputs": [],
   "source": [
    "from sympy import *\n",
    "\n",
    "matrix = np.array([[1, 4], [1, 1]])"
   ]
  },
  {
   "cell_type": "code",
   "execution_count": 35,
   "metadata": {},
   "outputs": [
    {
     "name": "stdout",
     "output_type": "stream",
     "text": [
      "Собственное значение 3.0000000000000004\n",
      "соответствующий ему собственный вектор [0.89442719 0.4472136 ]\n",
      "Собственное значение -0.9999999999999996\n",
      "соответствующий ему собственный вектор [-0.89442719  0.4472136 ]\n"
     ]
    }
   ],
   "source": [
    "w, v = np.linalg.eig(matrix)\n",
    "\n",
    "for i in range(len(w)):\n",
    "    print(\"Собственное значение \" + str(w[i]))\n",
    "    print(\"соответствующий ему собственный вектор \" + str(v[:,i]))"
   ]
  },
  {
   "cell_type": "markdown",
   "metadata": {},
   "source": [
    "(1-l)(1-l)-1 * 4 = 0\n",
    "1-2l+l^2 - 4 = 0\n",
    "l^2 - 2l - 4 = 0\n",
    "\n",
    "D = 4-4*1*-4 = 20\n",
    "\n",
    "x1 = (2+4.47)/2 = 3 (примерно)\n",
    "x2 = (2-4.47)/2 = -1 (примерно)\n",
    "\n",
    "-2x+4y=0\n",
    "x-2y=0\n",
    "\n",
    "x=2y\n",
    "x=2y\n",
    "\n",
    "y=1\n",
    "x=2\n",
    "\n",
    "Собственное значение 3 (2, 1)\n",
    "\n",
    "2x+4y=0\n",
    "x+2y=0\n",
    "\n",
    "x=-2y\n",
    "x=-2y\n",
    "\n",
    "y=-1\n",
    "x=2\n",
    "\n",
    "Собственное значение -1 (2, -1)\n",
    "\n",
    "ПС: Собственные вектора не совпадают с python, видимо, из-за округления чисел"
   ]
  },
  {
   "cell_type": "code",
   "execution_count": null,
   "metadata": {},
   "outputs": [],
   "source": []
  }
 ],
 "metadata": {
  "kernelspec": {
   "display_name": "Python 3",
   "language": "python",
   "name": "python3"
  },
  "language_info": {
   "codemirror_mode": {
    "name": "ipython",
    "version": 3
   },
   "file_extension": ".py",
   "mimetype": "text/x-python",
   "name": "python",
   "nbconvert_exporter": "python",
   "pygments_lexer": "ipython3",
   "version": "3.7.6"
  }
 },
 "nbformat": 4,
 "nbformat_minor": 2
}
