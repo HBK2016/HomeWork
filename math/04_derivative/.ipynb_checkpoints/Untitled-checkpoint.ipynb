{
 "cells": [
  {
   "cell_type": "markdown",
   "metadata": {},
   "source": [
    "## Уровень 0"
   ]
  },
  {
   "cell_type": "markdown",
   "metadata": {},
   "source": [
    "посчитайте значение 1-ой и 2-ой производной фунции\n",
    "f(x) = x^5 + 4sin(2x) + cos(3x+3) в точке x = 1"
   ]
  },
  {
   "cell_type": "markdown",
   "metadata": {},
   "source": [
    "$$ f'(x) = 5*x^4 + 4⋅cos(2⋅x)*(2) − sin(3⋅x+3) * (3)$$\n",
    "$$ f'(x) = 5*x^4 + 8⋅cos(2⋅x) − 3⋅sin(3⋅x+3)$$\n",
    "$$ f\"(x) = 20*x^3 - 8*sin(2*x)*(2)- 3*cos(3*x+3)*(3) $$\n",
    "$$ f\"(x) = 20*x^3 - 16*sin(2*x)- 9*cos(3*x+3) $$\n",
    "$$ f'𝑥(1)= 20*1^3 - 16*sin(2*1) - 9*cos(3*1+3) $$\n",
    "$$ f'𝑥(1)= 20- 16*0.91 - 9*0.96 $$\n",
    "$$ f'x(1)= 20- 14.56 - 8.64 $$\n",
    "$$ f'x(1)= -3.2 $$"
   ]
  },
  {
   "cell_type": "markdown",
   "metadata": {},
   "source": [
    "## Уровень 1"
   ]
  },
  {
   "cell_type": "markdown",
   "metadata": {},
   "source": [
    "Постройте график первой и второй производной функции\n",
    "(sin(2x+1))^5\n",
    "на отрезке [-5; 5]"
   ]
  },
  {
   "cell_type": "code",
   "execution_count": 53,
   "metadata": {},
   "outputs": [
    {
     "data": {
      "text/latex": [
       "$\\displaystyle 10 \\sin^{4}{\\left(2 x + 1 \\right)} \\cos{\\left(2 x + 1 \\right)}$"
      ],
      "text/plain": [
       "10*sin(2*x + 1)**4*cos(2*x + 1)"
      ]
     },
     "execution_count": 53,
     "metadata": {},
     "output_type": "execute_result"
    }
   ],
   "source": [
    "from sympy import diff, symbols, cos, sin\n",
    "from math import pow\n",
    "import pylab\n",
    "from sympy import *\n",
    "import matplotlib.pyplot as plt\n",
    "import numpy as np\n",
    "from scipy.misc import derivative\n",
    "\n",
    "x = symbols('x')\n",
    "y = diff((sin(2*x+1))**5)\n",
    "y"
   ]
  },
  {
   "cell_type": "code",
   "execution_count": 51,
   "metadata": {},
   "outputs": [],
   "source": [
    "def f(x1):\n",
    "    return 10*np.sin(2*x1+1)**4 * np.cos(2*x1+1)"
   ]
  },
  {
   "cell_type": "code",
   "execution_count": 52,
   "metadata": {},
   "outputs": [
    {
     "data": {
      "image/png": "[encoded data removed]",
      "text/plain": [
       "<Figure size 432x288 with 1 Axes>"
      ]
     },
     "metadata": {
      "needs_background": "light"
     },
     "output_type": "display_data"
    }
   ],
   "source": [
    "x1 = np.array([-5, 5])\n",
    "y1 = f(x1)\n",
    "plt.plot(x1,y1)\n",
    "plt.show()"
   ]
  },
  {
   "cell_type": "code",
   "execution_count": 58,
   "metadata": {},
   "outputs": [
    {
     "data": {
      "text/latex": [
       "$\\displaystyle - 20 \\sin^{5}{\\left(2 x + 1 \\right)} + 80 \\sin^{3}{\\left(2 x + 1 \\right)} \\cos^{2}{\\left(2 x + 1 \\right)}$"
      ],
      "text/plain": [
       "-20*sin(2*x + 1)**5 + 80*sin(2*x + 1)**3*cos(2*x + 1)**2"
      ]
     },
     "execution_count": 58,
     "metadata": {},
     "output_type": "execute_result"
    }
   ],
   "source": [
    "y2 = diff(10*((sin(2*x+1))**4) * cos(2*x+1))\n",
    "y2 "
   ]
  },
  {
   "cell_type": "code",
   "execution_count": 59,
   "metadata": {},
   "outputs": [],
   "source": [
    "def fx(x1):\n",
    "    return -20*(np.sin(2*x1+1))**5 + 80*(np.sin(2*x1))**3 * (np.cos(2*x1+1))**2"
   ]
  },
  {
   "cell_type": "code",
   "execution_count": 60,
   "metadata": {},
   "outputs": [
    {
     "data": {
      "image/png": "[encoded data removed]",
      "text/plain": [
       "<Figure size 432x288 with 1 Axes>"
      ]
     },
     "metadata": {
      "needs_background": "light"
     },
     "output_type": "display_data"
    }
   ],
   "source": [
    "y2 = fx(x1)\n",
    "plt.plot(x1,y2)\n",
    "plt.show()"
   ]
  },
  {
   "cell_type": "code",
   "execution_count": null,
   "metadata": {},
   "outputs": [],
   "source": []
  }
 ],
 "metadata": {
  "kernelspec": {
   "display_name": "Python 3",
   "language": "python",
   "name": "python3"
  },
  "language_info": {
   "codemirror_mode": {
    "name": "ipython",
    "version": 3
   },
   "file_extension": ".py",
   "mimetype": "text/x-python",
   "name": "python",
   "nbconvert_exporter": "python",
   "pygments_lexer": "ipython3",
   "version": "3.7.6"
  }
 },
 "nbformat": 4,
 "nbformat_minor": 4
}
